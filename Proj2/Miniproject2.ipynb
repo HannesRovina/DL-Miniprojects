{
 "cells": [
  {
   "cell_type": "code",
   "execution_count": 1,
   "metadata": {},
   "outputs": [],
   "source": [
    "%load_ext autoreload\n",
    "%autoreload 2"
   ]
  },
  {
   "cell_type": "code",
   "execution_count": 3,
   "metadata": {},
   "outputs": [],
   "source": [
    "import torch\n",
    "import src.modules as module\n",
    "import math"
   ]
  },
  {
   "cell_type": "code",
   "execution_count": 4,
   "metadata": {},
   "outputs": [
    {
     "data": {
      "text/plain": [
       "<torch.autograd.grad_mode.set_grad_enabled at 0x1b715057588>"
      ]
     },
     "execution_count": 4,
     "metadata": {},
     "output_type": "execute_result"
    }
   ],
   "source": [
    "torch.set_grad_enabled(False)"
   ]
  },
  {
   "cell_type": "markdown",
   "metadata": {},
   "source": [
    "## Generate Dataset"
   ]
  },
  {
   "cell_type": "code",
   "execution_count": 5,
   "metadata": {},
   "outputs": [],
   "source": [
    "def generate_disc_set(nb):\n",
    "    input = torch.Tensor(nb, 2).uniform_(0, 1)\n",
    "    \n",
    "    target = abs(input.pow(2).sum(1).sub(1 / (2*math.pi)).sign().add(-1).div(2).long())\n",
    "    return input, target"
   ]
  },
  {
   "cell_type": "code",
   "execution_count": 6,
   "metadata": {},
   "outputs": [],
   "source": [
    "N = 5\n",
    "train_input, train_target = generate_disc_set(N)\n",
    "test_input, test_target = generate_disc_set(N)"
   ]
  },
  {
   "cell_type": "code",
   "execution_count": 16,
   "metadata": {},
   "outputs": [
    {
     "data": {
      "text/plain": [
       "tensor(6.2500)"
      ]
     },
     "execution_count": 16,
     "metadata": {},
     "output_type": "execute_result"
    }
   ],
   "source": [
    "#Testing mse\n",
    "loss = module.LossMSE()\n",
    "inputs = torch.tensor([[ 3., 0., 0., 0. ]])\n",
    "targets = torch.tensor([[ 3., 0., 5., 0. ]])\n",
    "loss(inputs, targets)\n",
    "\n"
   ]
  },
  {
   "cell_type": "code",
   "execution_count": null,
   "metadata": {},
   "outputs": [],
   "source": []
  },
  {
   "cell_type": "code",
   "execution_count": 46,
   "metadata": {},
   "outputs": [
    {
     "name": "stdout",
     "output_type": "stream",
     "text": [
      "tanh1\n",
      "tensor([[0.0000, 0.6054]])\n"
     ]
    }
   ],
   "source": [
    "#testing sequential, tanh, linear, relu\n",
    "model = module.Sequential(('lin1',module.Linear(4,3)),('tanh1',module.Tanh()),('lin2',module.Linear(3,2)),('relu1',module.ReLU()))\n",
    "\n",
    "print(model[1].name)\n",
    "print(model(inputs))"
   ]
  },
  {
   "cell_type": "code",
   "execution_count": 47,
   "metadata": {},
   "outputs": [
    {
     "name": "stdout",
     "output_type": "stream",
     "text": [
      "tensor([[0.0000, 0.6054]])\n",
      "Loss gradient: tensor([[ 0.8000, -0.8108]])\n",
      "Gradient wrt to input output of module relu1 tensor([[ 0.0000, -0.8108]])\n",
      "Gradient wrt to input output of module lin2 tensor([[-0.2468, -0.1279,  0.2220]])\n",
      "Gradient wrt to input output of module tanh1 tensor([[-0.1526, -0.1077,  0.1420]])\n",
      "Gradient wrt to input output of module lin1 tensor([[-0.1137,  0.0300,  0.0329,  0.0223]])\n",
      "Loss wrt input tensor([[-0.1137,  0.0300,  0.0329,  0.0223]])\n"
     ]
    }
   ],
   "source": [
    "out = model(inputs)\n",
    "print(out)\n",
    "targets = torch.Tensor([[0.4, 0.2]])\n",
    "d_loss = loss.backward(out, targets)\n",
    "print(\"Loss gradient: {0}\".format(d_loss))\n",
    "print(\"Loss wrt input {0}\".format(model.backward(d_loss)))"
   ]
  },
  {
   "cell_type": "code",
   "execution_count": null,
   "metadata": {},
   "outputs": [],
   "source": []
  }
 ],
 "metadata": {
  "kernelspec": {
   "display_name": "Python 3",
   "language": "python",
   "name": "python3"
  },
  "language_info": {
   "codemirror_mode": {
    "name": "ipython",
    "version": 3
   },
   "file_extension": ".py",
   "mimetype": "text/x-python",
   "name": "python",
   "nbconvert_exporter": "python",
   "pygments_lexer": "ipython3",
   "version": "3.6.4"
  }
 },
 "nbformat": 4,
 "nbformat_minor": 2
}
