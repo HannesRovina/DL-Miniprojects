{
 "cells": [
  {
   "cell_type": "code",
   "execution_count": 1,
   "metadata": {},
   "outputs": [],
   "source": [
    "%load_ext autoreload\n",
    "%autoreload 2"
   ]
  },
  {
   "cell_type": "code",
   "execution_count": 2,
   "metadata": {},
   "outputs": [],
   "source": [
    "import torch\n",
    "import src.modules as module\n",
    "from src.optimizer import SGD\n",
    "from src.functional import generate_disc_set\n",
    "import math"
   ]
  },
  {
   "cell_type": "code",
   "execution_count": 3,
   "metadata": {},
   "outputs": [
    {
     "data": {
      "text/plain": [
       "<torch.autograd.grad_mode.set_grad_enabled at 0x2205806c9e8>"
      ]
     },
     "execution_count": 3,
     "metadata": {},
     "output_type": "execute_result"
    }
   ],
   "source": [
    "torch.set_grad_enabled(False)"
   ]
  },
  {
   "cell_type": "markdown",
   "metadata": {},
   "source": [
    "## Generate Dataset"
   ]
  },
  {
   "cell_type": "code",
   "execution_count": 27,
   "metadata": {},
   "outputs": [],
   "source": [
    "N = 12\n",
    "train_input, train_target = generate_disc_set(N, batch_size=3)\n",
    "test_input, test_target = generate_disc_set(N , batch_size=3)"
   ]
  },
  {
   "cell_type": "code",
   "execution_count": 29,
   "metadata": {},
   "outputs": [
    {
     "name": "stdout",
     "output_type": "stream",
     "text": [
      "torch.Size([4, 3, 2])\n",
      "torch.Size([4, 3, 2])\n",
      "tensor([[0.0517, 0.3338],\n",
      "        [0.7798, 0.6022],\n",
      "        [0.5270, 0.8882]])\n",
      "tensor([[1., 0.],\n",
      "        [0., 1.],\n",
      "        [0., 1.]])\n"
     ]
    }
   ],
   "source": [
    "print(train_input.shape)\n",
    "print(train_target.shape)\n",
    "print(train_input[0])\n",
    "print(train_target[0])"
   ]
  },
  {
   "cell_type": "code",
   "execution_count": 30,
   "metadata": {},
   "outputs": [
    {
     "name": "stdout",
     "output_type": "stream",
     "text": [
      "relu1\n",
      "tensor([[-0.2319, -0.1754],\n",
      "        [-0.1805, -0.1795],\n",
      "        [-0.2627, -0.1756]])\n",
      "tensor([[0., 1.],\n",
      "        [0., 1.],\n",
      "        [0., 1.]])\n"
     ]
    }
   ],
   "source": [
    "#testing sequential, tanh, linear, relu\n",
    "model = module.Sequential(('lin1',module.Linear(2,5)),('relu1',module.ReLU()),('lin2',module.Linear(5,2)))\n",
    "optim = SGD(model.parameters(), lr=0.01)\n",
    "print(model[1].name)\n",
    "print(model(train_input[1]))\n",
    "print(train_target[1])"
   ]
  },
  {
   "cell_type": "code",
   "execution_count": 36,
   "metadata": {},
   "outputs": [
    {
     "name": "stdout",
     "output_type": "stream",
     "text": [
      "tensor([[-0.2319, -0.1754],\n",
      "        [-0.1805, -0.1795],\n",
      "        [-0.2627, -0.1756]])\n",
      "tensor(0.7183)\n",
      "tensor([[-0.4639, -2.3507],\n",
      "        [-0.3610, -2.3589],\n",
      "        [-0.5254, -2.3512]])\n",
      "Gradient wrt to input output of module lin2 tensor([[-0.3247,  0.2724,  0.0958,  0.2669, -0.8494],\n",
      "        [-0.3023,  0.2616,  0.0637,  0.2628, -0.8271],\n",
      "        [-0.3386,  0.2794,  0.1150,  0.2700, -0.8644]])\n",
      "Gradient wrt to input output of module relu1 tensor([[-0.0000, 0.0000, 0.0958, 0.2669, -0.0000],\n",
      "        [-0.0000, 0.0000, 0.0637, 0.2628, -0.0000],\n",
      "        [-0.0000, 0.0000, 0.1150, 0.2700, -0.0000]])\n",
      "Gradient wrt to input output of module lin1 tensor([[-0.0445,  0.1063],\n",
      "        [-0.0277,  0.0961],\n",
      "        [-0.0545,  0.1125]])\n"
     ]
    },
    {
     "data": {
      "text/plain": [
       "tensor([[-0.0445,  0.1063],\n",
       "        [-0.0277,  0.0961],\n",
       "        [-0.0545,  0.1125]])"
      ]
     },
     "execution_count": 36,
     "metadata": {},
     "output_type": "execute_result"
    }
   ],
   "source": [
    "loss = module.LossMSE()\n",
    "out = model(train_input[1])\n",
    "print(out)\n",
    "print(loss(out, train_target[1]))\n",
    "d_loss = loss.backward(out,train_target[1])\n",
    "print(d_loss)\n",
    "model.backward(d_loss)\n",
    "\n"
   ]
  },
  {
   "cell_type": "code",
   "execution_count": null,
   "metadata": {},
   "outputs": [],
   "source": [
    "def train(inp, target, model, optim, epochs):\n",
    "    for i in range(epochs):\n",
    "        print(\"Epoch {0}\".format(i))\n",
    "        out = model(inputs)\n",
    "        print(\"Out {0}\".format(out))\n",
    "        print(\"Loss {0}\".format(loss(out, target)))\n",
    "        optim.zero_grad()\n",
    "        d_loss = loss.backward(out, target)\n",
    "        model.backward(d_loss)\n",
    "        optim.step()\n",
    "    "
   ]
  },
  {
   "cell_type": "code",
   "execution_count": null,
   "metadata": {},
   "outputs": [],
   "source": [
    "train(inputs, torch.Tensor([[0.8,0.2]]), model, optim, 10)"
   ]
  },
  {
   "cell_type": "code",
   "execution_count": null,
   "metadata": {},
   "outputs": [],
   "source": []
  }
 ],
 "metadata": {
  "kernelspec": {
   "display_name": "Python 3",
   "language": "python",
   "name": "python3"
  },
  "language_info": {
   "codemirror_mode": {
    "name": "ipython",
    "version": 3
   },
   "file_extension": ".py",
   "mimetype": "text/x-python",
   "name": "python",
   "nbconvert_exporter": "python",
   "pygments_lexer": "ipython3",
   "version": "3.6.4"
  }
 },
 "nbformat": 4,
 "nbformat_minor": 2
}
