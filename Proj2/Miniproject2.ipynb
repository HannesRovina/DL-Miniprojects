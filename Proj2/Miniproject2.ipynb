{
 "cells": [
  {
   "cell_type": "code",
   "execution_count": 1,
   "metadata": {},
   "outputs": [],
   "source": [
    "%load_ext autoreload\n",
    "%autoreload 2"
   ]
  },
  {
   "cell_type": "code",
   "execution_count": 2,
   "metadata": {},
   "outputs": [],
   "source": [
    "import torch\n",
    "import src.modules as module \n",
    "import math"
   ]
  },
  {
   "cell_type": "code",
   "execution_count": 3,
   "metadata": {},
   "outputs": [
    {
     "data": {
      "text/plain": [
       "<torch.autograd.grad_mode.set_grad_enabled at 0x7f95b5727e10>"
      ]
     },
     "execution_count": 3,
     "metadata": {},
     "output_type": "execute_result"
    }
   ],
   "source": [
    "torch.set_grad_enabled(False)"
   ]
  },
  {
   "cell_type": "markdown",
   "metadata": {},
   "source": [
    "## Generate Dataset"
   ]
  },
  {
   "cell_type": "code",
   "execution_count": 4,
   "metadata": {},
   "outputs": [],
   "source": [
    "def generate_disc_set(nb):\n",
    "    input = torch.Tensor(nb, 2).uniform_(0, 1)\n",
    "    \n",
    "    target = abs(input.pow(2).sum(1).sub(1 / (2*math.pi)).sign().add(-1).div(2).long())\n",
    "    return input, target"
   ]
  },
  {
   "cell_type": "code",
   "execution_count": 5,
   "metadata": {},
   "outputs": [],
   "source": [
    "N = 5\n",
    "train_input, train_target = generate_disc_set(N)\n",
    "test_input, test_target = generate_disc_set(N)"
   ]
  },
  {
   "cell_type": "code",
   "execution_count": 6,
   "metadata": {},
   "outputs": [
    {
     "data": {
      "text/plain": [
       "tensor(6.2500)"
      ]
     },
     "execution_count": 6,
     "metadata": {},
     "output_type": "execute_result"
    }
   ],
   "source": [
    "#Testing mse\n",
    "loss = module.LossMSE()\n",
    "inputs = torch.tensor([[ 3., 0., 0., 0. ]])\n",
    "targets = torch.tensor([[ 3., 0., 5., 0. ]])\n",
    "loss(inputs, targets)\n",
    "\n"
   ]
  },
  {
   "cell_type": "code",
   "execution_count": 7,
   "metadata": {},
   "outputs": [
    {
     "name": "stdout",
     "output_type": "stream",
     "text": [
      "tanh1\n",
      "tensor([[0.6780, 0.9024, 0.7412]])\n"
     ]
    }
   ],
   "source": [
    "#testing sequential, tanh, linear, relu\n",
    "model = module.Sequential(('lin1',module.Linear(4,3)),('tanh1',module.Tanh()),('tanh1',module.ReLU()))\n",
    "\n",
    "print(model[1].name)\n",
    "print(model(inputs))"
   ]
  }
 ],
 "metadata": {
  "kernelspec": {
   "display_name": "dl2019",
   "language": "python",
   "name": "dl2019"
  },
  "language_info": {
   "codemirror_mode": {
    "name": "ipython",
    "version": 3
   },
   "file_extension": ".py",
   "mimetype": "text/x-python",
   "name": "python",
   "nbconvert_exporter": "python",
   "pygments_lexer": "ipython3",
   "version": "3.7.2"
  }
 },
 "nbformat": 4,
 "nbformat_minor": 2
}
