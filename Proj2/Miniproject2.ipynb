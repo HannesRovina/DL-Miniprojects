{
 "cells": [
  {
   "cell_type": "code",
   "execution_count": 1,
   "metadata": {},
   "outputs": [],
   "source": [
    "%load_ext autoreload\n",
    "%autoreload 2"
   ]
  },
  {
   "cell_type": "code",
   "execution_count": 2,
   "metadata": {},
   "outputs": [],
   "source": [
    "import torch\n",
    "import src.modules as module\n",
    "from src.optimizer import SGD\n",
    "import math\n",
    "import matplotlib.pyplot as plt"
   ]
  },
  {
   "cell_type": "code",
   "execution_count": 3,
   "metadata": {},
   "outputs": [
    {
     "data": {
      "text/plain": [
       "<torch.autograd.grad_mode.set_grad_enabled at 0x7fb257239470>"
      ]
     },
     "execution_count": 3,
     "metadata": {},
     "output_type": "execute_result"
    }
   ],
   "source": [
    "torch.set_grad_enabled(False)"
   ]
  },
  {
   "cell_type": "markdown",
   "metadata": {},
   "source": [
    "## Generate Dataset"
   ]
  },
  {
   "cell_type": "code",
   "execution_count": 4,
   "metadata": {},
   "outputs": [],
   "source": [
    "def generate_disc_set(nb):\n",
    "    input = torch.Tensor(nb, 2).uniform_(0, 1)\n",
    "    #TODO not sure about centering the circle, maybe remove 0.5 in sub()\n",
    "    target = abs(input.pow(2).sum(1).sub(0.5+1 / (2*math.pi)).sign().add(-1).div(2))\n",
    "    return input, target"
   ]
  },
  {
   "cell_type": "code",
   "execution_count": 5,
   "metadata": {},
   "outputs": [
    {
     "name": "stdout",
     "output_type": "stream",
     "text": [
      "tensor(512)\n"
     ]
    }
   ],
   "source": [
    "N = 1000\n",
    "train_input, train_target = generate_disc_set(N)\n",
    "train_target = train_target.view(N,1)\n",
    "test_input, test_target = generate_disc_set(N)\n",
    "test_target = test_target.view(N,1)\n",
    "\n",
    "mean, std = train_input.mean(), train_input.std()\n",
    "\n",
    "train_input.sub_(mean).div_(std)\n",
    "test_input.sub_(mean).div_(std)\n",
    "\n",
    "print(train_target[train_target>0.5].sum().long())"
   ]
  },
  {
   "cell_type": "code",
   "execution_count": 6,
   "metadata": {},
   "outputs": [],
   "source": [
    "def initialize_model():\n",
    "    model = module.Sequential(('lin1',module.Linear(2,25,bias=False)),('relu1',module.ReLU()),\n",
    "                              ('lin2',module.Linear(25,25,bias=False)),('relu2',module.ReLU()),\n",
    "                              ('lin3',module.Linear(25,25,bias=False)),('relu3',module.ReLU()),\n",
    "                              ('lin4',module.Linear(25,2,bias=False)),('tanh1',module.Tanh()))\n",
    "    return model"
   ]
  },
  {
   "cell_type": "code",
   "execution_count": 7,
   "metadata": {},
   "outputs": [],
   "source": [
    "def train(inp, target, model, epochs, learning_rate=0.0001):\n",
    "    optim = SGD(model.parameters(), lr=learning_rate)\n",
    "    loss = module.LossMSE()\n",
    "    error = []\n",
    "    for i in range(epochs):\n",
    "        #print(\"Epoch {0}\".format(i))\n",
    "        out = model(inp)\n",
    "        #print(\"Out {0}\".format(out))\n",
    "        error.append(loss(out, target))\n",
    "        #print(\"Loss {0}\".format(loss(out, target)))\n",
    "        optim.zero_grad()\n",
    "\n",
    "        d_loss = loss.backward(out, target)\n",
    "\n",
    "        model.backward(d_loss)\n",
    "        optim.step()\n",
    "    \n",
    "    return error\n",
    "    "
   ]
  },
  {
   "cell_type": "code",
   "execution_count": 8,
   "metadata": {},
   "outputs": [],
   "source": [
    "def compute_nb_errors(model, data_input, data_target):\n",
    "\n",
    "    nb_data_errors = 0\n",
    "\n",
    "\n",
    "    output = model(data_input)\n",
    "    _, predicted_classes = torch.max(output.data, 1)\n",
    "    result = data_target[:,0] + predicted_classes.float()\n",
    "    nb_data_errors = result[result<1.5].sum()\n",
    "    return nb_data_errors"
   ]
  },
  {
   "cell_type": "code",
   "execution_count": 9,
   "metadata": {
    "scrolled": false
   },
   "outputs": [
    {
     "name": "stdout",
     "output_type": "stream",
     "text": [
      "Learning Rate: 1e-05\n",
      "train_error 48.80% test_error 49.00%\n",
      "Learning Rate: 5e-05\n",
      "train_error 51.50% test_error 54.70%\n",
      "Learning Rate: 0.0001\n",
      "train_error 53.70% test_error 42.10%\n",
      "Learning Rate: 0.0005\n",
      "train_error 46.20% test_error 53.40%\n"
     ]
    },
    {
     "data": {
      "image/png": "[encoded data removed]",
      "text/plain": [
       "<Figure size 432x288 with 1 Axes>"
      ]
     },
     "metadata": {
      "needs_background": "light"
     },
     "output_type": "display_data"
    }
   ],
   "source": [
    "learning_rates = [1e-5,5e-5,1e-4,5e-4]\n",
    "mseLoss = []\n",
    "epochs = 50\n",
    "for i,lr in enumerate(learning_rates):\n",
    "    print('Learning Rate: {0}'.format(lr))\n",
    "    model = initialize_model()\n",
    "    mseLoss.append(train(train_input, train_target, model, epochs, learning_rate=lr))\n",
    "    \n",
    "    print('train_error {:.02f}% test_error {:.02f}%'.format(\n",
    "            compute_nb_errors(model, train_input, train_target) / train_input.size(0) * 100,\n",
    "            compute_nb_errors(model, test_input, test_target) / test_input.size(0) * 100))\n",
    "\n",
    "for i in range(0,len(mseLoss)):\n",
    "    plt.plot(range(0,epochs),mseLoss[i], label='lr: {0}' .format(learning_rates[i]))\n",
    "    plt.legend()"
   ]
  }
 ],
 "metadata": {
  "kernelspec": {
   "display_name": "dl2019",
   "language": "python",
   "name": "dl2019"
  },
  "language_info": {
   "codemirror_mode": {
    "name": "ipython",
    "version": 3
   },
   "file_extension": ".py",
   "mimetype": "text/x-python",
   "name": "python",
   "nbconvert_exporter": "python",
   "pygments_lexer": "ipython3",
   "version": "3.7.2"
  }
 },
 "nbformat": 4,
 "nbformat_minor": 2
}
