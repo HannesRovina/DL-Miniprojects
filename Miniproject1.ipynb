{
 "cells": [
  {
   "cell_type": "code",
   "execution_count": 1,
   "metadata": {},
   "outputs": [],
   "source": [
    "#imports\n",
    "import torch\n",
    "from torch import optim\n",
    "from torch import Tensor\n",
    "from torch.autograd import Variable\n",
    "from torch import nn\n",
    "from torch.nn import functional as F\n",
    "import matplotlib.pyplot as plt\n",
    "import dlc_practical_prologue as prologue\n"
   ]
  },
  {
   "cell_type": "code",
   "execution_count": 2,
   "metadata": {},
   "outputs": [
    {
     "name": "stderr",
     "output_type": "stream",
     "text": [
      "/home/hannes/anaconda3/envs/dl2019/lib/python3.7/site-packages/torchvision/datasets/mnist.py:53: UserWarning: train_data has been renamed data\n",
      "  warnings.warn(\"train_data has been renamed data\")\n",
      "/home/hannes/anaconda3/envs/dl2019/lib/python3.7/site-packages/torchvision/datasets/mnist.py:43: UserWarning: train_labels has been renamed targets\n",
      "  warnings.warn(\"train_labels has been renamed targets\")\n",
      "/home/hannes/anaconda3/envs/dl2019/lib/python3.7/site-packages/torchvision/datasets/mnist.py:58: UserWarning: test_data has been renamed data\n",
      "  warnings.warn(\"test_data has been renamed data\")\n",
      "/home/hannes/anaconda3/envs/dl2019/lib/python3.7/site-packages/torchvision/datasets/mnist.py:48: UserWarning: test_labels has been renamed targets\n",
      "  warnings.warn(\"test_labels has been renamed targets\")\n"
     ]
    }
   ],
   "source": [
    "#import data for a 1000 pairs\n",
    "N = 1000\n",
    "(train_input, train_target, train_classes, \n",
    " test_input, test_target, test_classes) = prologue.generate_pair_sets(N)\n",
    "\n",
    "#change classes to float type\n",
    "#train_classes = train_classes.type(torch.float32)\n",
    "#test_classes = test_classes.type(torch.float32)\n",
    "\n",
    "#normalize images\n",
    "mu, std = train_input.mean(), train_input.std()\n",
    "train_input.sub_(mu).div_(std)\n",
    "test_input.sub_(mu).div_(std);\n"
   ]
  },
  {
   "cell_type": "code",
   "execution_count": 3,
   "metadata": {},
   "outputs": [
    {
     "name": "stdout",
     "output_type": "stream",
     "text": [
      "tensor(3.0939)\n",
      "tensor([5, 4])\n",
      "tensor(0)\n"
     ]
    },
    {
     "data": {
      "image/png": "[encoded data removed]",
      "text/plain": [
       "<Figure size 432x288 with 1 Axes>"
      ]
     },
     "metadata": {
      "needs_background": "light"
     },
     "output_type": "display_data"
    },
    {
     "data": {
      "image/png": "[encoded data removed]",
      "text/plain": [
       "<Figure size 432x288 with 1 Axes>"
      ]
     },
     "metadata": {
      "needs_background": "light"
     },
     "output_type": "display_data"
    }
   ],
   "source": [
    "#tests to see what kind of data is there\n",
    "plt.figure(1)\n",
    "plt.imshow(train_input[1][0])\n",
    "print(torch.max(train_input[1][0]))\n",
    "plt.figure(2)\n",
    "plt.imshow(train_input[1][1])\n",
    "print(train_classes[1])\n",
    "print(train_target[1])"
   ]
  },
  {
   "cell_type": "code",
   "execution_count": 9,
   "metadata": {},
   "outputs": [],
   "source": [
    "#model, simple cnn with 2 conv layers and one hidden and output layer\n",
    "class Net(nn.Module):\n",
    "    def __init__(self):\n",
    "        super(Net, self).__init__()\n",
    "        self.conv1 = nn.Conv2d(1, 32, kernel_size=5)\n",
    "        self.conv2 = nn.Conv2d(32, 64, kernel_size=5)\n",
    "        self.fc1 = nn.Linear(64*4*4, 128)\n",
    "        self.fc2 = nn.Linear(128, 10)\n",
    "\n",
    "    def forward(self, x):\n",
    "        x = F.relu(self.conv1(x))\n",
    "        x = F.max_pool2d(x, kernel_size=2)\n",
    "        x = F.relu(self.conv2(x))\n",
    "        x = F.max_pool2d(x, kernel_size=2)\n",
    "        x = F.relu(self.fc1(x.view(-1, 64*4*4)))\n",
    "        x = F.log_softmax(self.fc2(x),dim=1)\n",
    "        return x"
   ]
  },
  {
   "cell_type": "code",
   "execution_count": 13,
   "metadata": {},
   "outputs": [],
   "source": [
    "def train_model(model, train_input, train_target, mini_batch_size):\n",
    "    criterion = nn.CrossEntropyLoss()\n",
    "    optimizer = optim.SGD(model.parameters(), lr = 0.1)\n",
    "    eta = 0.1\n",
    "    \n",
    "    for e in range(0, 25):\n",
    "        sum_loss = 0\n",
    "        # We do this with mini-batches\n",
    "        for b in range(0, train_input.size(0), mini_batch_size):\n",
    "            output = model(train_input.narrow(0, b, mini_batch_size))\n",
    "            loss = criterion(output, train_target.narrow(0, b, mini_batch_size).view(-1))\n",
    "            sum_loss = sum_loss + loss.item()\n",
    "            model.zero_grad()\n",
    "            loss.backward()\n",
    "            optimizer.step()\n",
    "        print(e, sum_loss)"
   ]
  },
  {
   "cell_type": "code",
   "execution_count": 6,
   "metadata": {},
   "outputs": [],
   "source": [
    "def compute_nb_errors(model, input, target, mini_batch_size):\n",
    "    nb_errors = 0\n",
    "\n",
    "    for b in range(0, input.size(0), mini_batch_size):\n",
    "        output = model(input.narrow(0, b, mini_batch_size))\n",
    "        _, predicted_classes = output.data.max(1)\n",
    "        for k in range(mini_batch_size):\n",
    "            #print(target[b + k].type(torch.int64), predicted_classes[k])\n",
    "            if target[b + k] != predicted_classes[k]:\n",
    "                nb_errors = nb_errors + 1\n",
    "\n",
    "    return nb_errors"
   ]
  },
  {
   "cell_type": "code",
   "execution_count": 7,
   "metadata": {},
   "outputs": [
    {
     "name": "stderr",
     "output_type": "stream",
     "text": [
      "/home/hannes/anaconda3/envs/dl2019/lib/python3.7/site-packages/torch/nn/functional.py:2351: UserWarning: nn.functional.upsample is deprecated. Use nn.functional.interpolate instead.\n",
      "  warnings.warn(\"nn.functional.upsample is deprecated. Use nn.functional.interpolate instead.\")\n",
      "/home/hannes/anaconda3/envs/dl2019/lib/python3.7/site-packages/torch/nn/functional.py:2423: UserWarning: Default upsampling behavior when mode=bilinear is changed to align_corners=False since 0.4.0. Please specify align_corners=True if the old behavior is desired. See the documentation of nn.Upsample for details.\n",
      "  \"See the documentation of nn.Upsample for details.\".format(mode))\n"
     ]
    }
   ],
   "source": [
    "#create torch variables\n",
    "x_train_1, y_train_1 = Variable(train_input.narrow(1,0,1)), Variable(train_classes.narrow(1,0,1))\n",
    "x_test_1, y_test_1 = Variable(test_input.narrow(1,0,1)), Variable(test_classes.narrow(1,0,1))\n",
    "\n",
    "#upsample the images because they are too small\n",
    "x_train_1 =F.upsample(x_train_1,(28,28), mode='bilinear')\n",
    "x_test_1 =F.upsample(x_test_1,(28,28), mode='bilinear')\n",
    "\n",
    "#rearrange shape of target data\n",
    "#y_train_1 = y_train_1.view(N,1)\n",
    "#y_test_1 = y_test_1.view(N,1)\n",
    "mini_batch_size = 100\n"
   ]
  },
  {
   "cell_type": "code",
   "execution_count": 15,
   "metadata": {},
   "outputs": [
    {
     "name": "stdout",
     "output_type": "stream",
     "text": [
      "0 21.932377338409424\n",
      "1 16.0148366689682\n",
      "2 9.653971195220947\n",
      "3 7.031804174184799\n",
      "4 4.185783088207245\n",
      "5 3.5862839818000793\n",
      "6 2.801062136888504\n",
      "7 2.3457628339529037\n",
      "8 2.2036414742469788\n",
      "9 1.730422392487526\n",
      "10 1.5021394938230515\n",
      "11 1.303483985364437\n",
      "12 1.1386362239718437\n",
      "13 0.9966531805694103\n",
      "14 0.8870530091226101\n",
      "15 0.7914328388869762\n",
      "16 0.6675752587616444\n",
      "17 0.5512121822685003\n",
      "18 0.4540532138198614\n",
      "19 0.38602199871093035\n",
      "20 0.33645014744251966\n",
      "21 0.29303320311009884\n",
      "22 0.2524577220901847\n",
      "23 0.22074802312999964\n",
      "24 0.1906695244833827\n",
      "test error Net 6.60% 66/1000\n",
      "0 21.78492546081543\n",
      "1 16.57758629322052\n",
      "2 11.692449569702148\n",
      "3 6.584592580795288\n",
      "4 4.981584548950195\n",
      "5 4.026504695415497\n",
      "6 2.8748272955417633\n",
      "7 2.529670223593712\n",
      "8 2.10813669860363\n",
      "9 1.7558609992265701\n",
      "10 1.5313896238803864\n",
      "11 1.3306614384055138\n",
      "12 1.130324773490429\n",
      "13 1.011808030307293\n",
      "14 0.8605330996215343\n",
      "15 0.7466878145933151\n",
      "16 0.6111444346606731\n",
      "17 0.5333576872944832\n",
      "18 0.46786530688405037\n",
      "19 0.3934764228761196\n",
      "20 0.30993429757654667\n",
      "21 0.2591619286686182\n",
      "22 0.22287862934172153\n",
      "23 0.1894831284880638\n",
      "24 0.16422267584130168\n",
      "test error Net 6.70% 67/1000\n",
      "0 21.361284613609314\n",
      "1 16.272160410881042\n",
      "2 10.058273017406464\n",
      "3 6.8828123807907104\n",
      "4 4.408252120018005\n",
      "5 3.786429613828659\n",
      "6 2.8525629192590714\n",
      "7 2.681924521923065\n",
      "8 2.0757677853107452\n",
      "9 1.7834580540657043\n",
      "10 1.4740344807505608\n",
      "11 1.7391583546996117\n",
      "12 1.1825453117489815\n",
      "13 1.0179056972265244\n",
      "14 0.8767133578658104\n",
      "15 0.7201046086847782\n",
      "16 0.5989450663328171\n",
      "17 0.49473976343870163\n",
      "18 0.4054388413205743\n",
      "19 0.3406599089503288\n",
      "20 0.28698913380503654\n",
      "21 0.24388717114925385\n",
      "22 0.20719788409769535\n",
      "23 0.17779031861573458\n",
      "24 0.15393944177776575\n",
      "test error Net 6.90% 69/1000\n",
      "0 21.704964637756348\n",
      "1 16.05573332309723\n",
      "2 9.680184960365295\n",
      "3 6.082176148891449\n",
      "4 5.451704651117325\n",
      "5 3.5106817930936813\n",
      "6 3.0706634670495987\n",
      "7 2.4642003625631332\n",
      "8 2.169549211859703\n",
      "9 1.8665993809700012\n",
      "10 1.6620959788560867\n",
      "11 1.4345277920365334\n",
      "12 1.2702506929636002\n",
      "13 1.1385769844055176\n",
      "14 0.920620571821928\n",
      "15 0.8596745021641254\n",
      "16 0.6992134861648083\n",
      "17 0.5727175381034613\n",
      "18 0.47869930416345596\n",
      "19 0.40371087566018105\n",
      "20 0.3454725919291377\n",
      "21 0.2976541090756655\n",
      "22 0.2555558988824487\n",
      "23 0.22113755624741316\n",
      "24 0.18996766861528158\n",
      "test error Net 6.80% 68/1000\n",
      "0 21.500844717025757\n",
      "1 15.810218572616577\n",
      "2 9.287995159626007\n",
      "3 6.13049453496933\n",
      "4 3.9758168756961823\n",
      "5 3.0210197269916534\n",
      "6 3.1229815781116486\n",
      "7 2.1917374432086945\n",
      "8 1.837716244161129\n",
      "9 1.5802638977766037\n",
      "10 1.3477503880858421\n",
      "11 1.1840488612651825\n",
      "12 1.026863768696785\n",
      "13 0.8966692760586739\n",
      "14 0.7801696956157684\n",
      "15 0.6621436923742294\n",
      "16 0.5557459704577923\n",
      "17 0.45704104006290436\n",
      "18 0.39192333072423935\n",
      "19 0.33217552676796913\n",
      "20 0.27883932925760746\n",
      "21 0.23444229364395142\n",
      "22 0.2029223581776023\n",
      "23 0.17590399459004402\n",
      "24 0.1519335345365107\n",
      "test error Net 6.50% 65/1000\n",
      "0 21.52330791950226\n",
      "1 16.038895070552826\n",
      "2 10.108720362186432\n",
      "3 5.349043428897858\n",
      "4 4.321344643831253\n",
      "5 3.7362287640571594\n",
      "6 2.618373781442642\n",
      "7 2.197166606783867\n",
      "8 2.017433375120163\n",
      "9 1.5630365014076233\n",
      "10 1.5656195357441902\n",
      "11 1.2171299159526825\n",
      "12 1.068136639893055\n",
      "13 0.887897826731205\n",
      "14 0.7568888328969479\n",
      "15 0.6305932346731424\n",
      "16 0.5806459039449692\n",
      "17 1.1080571059137583\n",
      "18 1.1220803782343864\n",
      "19 0.48561011999845505\n",
      "20 0.3533783685415983\n",
      "21 0.2898364281281829\n",
      "22 0.24600122682750225\n",
      "23 0.21214925684034824\n",
      "24 0.1854762975126505\n",
      "test error Net 6.30% 63/1000\n",
      "0 21.53133261203766\n",
      "1 16.49813938140869\n",
      "2 10.798493146896362\n",
      "3 7.36769163608551\n",
      "4 5.045889586210251\n",
      "5 3.9902323782444\n",
      "6 4.208956152200699\n",
      "7 2.4625232368707657\n",
      "8 2.2113699316978455\n",
      "9 1.7921463698148727\n",
      "10 1.564269058406353\n",
      "11 1.3829149454832077\n",
      "12 1.2068701535463333\n",
      "13 1.0846046544611454\n",
      "14 0.9786844924092293\n",
      "15 0.7839447371661663\n",
      "16 0.7378862239420414\n",
      "17 0.5892698466777802\n",
      "18 0.4964828100055456\n",
      "19 0.41569868847727776\n",
      "20 0.3517845030874014\n",
      "21 0.2998906681314111\n",
      "22 0.2579638808965683\n",
      "23 0.22285648435354233\n",
      "24 0.1925022890791297\n",
      "test error Net 7.00% 70/1000\n",
      "0 21.627274990081787\n",
      "1 16.148634672164917\n",
      "2 9.132683753967285\n",
      "3 5.334707468748093\n",
      "4 3.5300252437591553\n",
      "5 3.0940234065055847\n",
      "6 2.5355956107378006\n",
      "7 1.982531376183033\n",
      "8 1.6387208849191666\n",
      "9 1.4657387807965279\n",
      "10 1.2441039085388184\n",
      "11 1.0726349577307701\n",
      "12 0.8791866637766361\n",
      "13 0.7449431233108044\n",
      "14 0.6212702877819538\n",
      "15 0.5213166046887636\n",
      "16 0.44888806343078613\n",
      "17 0.42559000104665756\n",
      "18 0.41625678539276123\n",
      "19 0.29583648312836885\n",
      "20 0.2450314499437809\n",
      "21 0.21556591615080833\n",
      "22 0.19032856915146112\n",
      "23 0.1674893065355718\n",
      "24 0.1472598947584629\n",
      "test error Net 6.30% 63/1000\n",
      "0 21.849530696868896\n",
      "1 16.793375849723816\n",
      "2 9.740879893302917\n",
      "3 7.881298661231995\n",
      "4 4.660434544086456\n",
      "5 3.850737228989601\n",
      "6 2.8202023953199387\n",
      "7 2.4332269579172134\n",
      "8 2.052616521716118\n",
      "9 1.791770912706852\n",
      "10 1.5856915265321732\n",
      "11 1.3945884704589844\n",
      "12 1.2604016065597534\n",
      "13 1.086914986371994\n",
      "14 0.9667567759752274\n",
      "15 0.8044409081339836\n",
      "16 0.7046711519360542\n",
      "17 0.6022796798497438\n",
      "18 0.5061911623924971\n",
      "19 0.43804462533444166\n",
      "20 0.37585780397057533\n",
      "21 0.33144456800073385\n",
      "22 0.28260094951838255\n",
      "23 0.23506040405482054\n",
      "24 0.19996874779462814\n",
      "test error Net 6.80% 68/1000\n",
      "0 21.69489562511444\n",
      "1 16.198720455169678\n",
      "2 9.002686202526093\n",
      "3 6.951592147350311\n",
      "4 4.2518046498298645\n",
      "5 3.439036786556244\n",
      "6 2.5028745383024216\n",
      "7 2.2580705732107162\n",
      "8 1.9123614728450775\n",
      "9 1.6686706244945526\n",
      "10 1.4202768132090569\n",
      "11 1.2241442576050758\n",
      "12 1.048302322626114\n",
      "13 0.8923512287437916\n",
      "14 0.748951967805624\n",
      "15 0.6148796640336514\n",
      "16 0.516388526186347\n",
      "17 0.4337874446064234\n",
      "18 0.42759049497544765\n",
      "19 1.4386864118278027\n",
      "20 2.7327978126704693\n",
      "21 0.5444459598511457\n",
      "22 0.36090032383799553\n",
      "23 0.2772812182083726\n",
      "24 0.2260962352156639\n",
      "test error Net 6.00% 60/1000\n"
     ]
    }
   ],
   "source": [
    "for k in range(10):\n",
    "    model = Net()\n",
    "    train_model(model, x_train_1, y_train_1, mini_batch_size)\n",
    "    nb_test_errors = compute_nb_errors(model, x_test_1, y_test_1, mini_batch_size)\n",
    "    print('test error Net {:0.2f}% {:d}/{:d}'.format((100 * nb_test_errors) / x_test_1.size(0),nb_test_errors, \n",
    "                                                     x_test_1.size(0)))"
   ]
  },
  {
   "cell_type": "code",
   "execution_count": 23,
   "metadata": {},
   "outputs": [
    {
     "name": "stdout",
     "output_type": "stream",
     "text": [
      "Target: 6    Model output: 6\n",
      "Target: 3    Model output: 3\n",
      "Target: 2    Model output: 2\n",
      "Target: 5    Model output: 5\n",
      "Target: 6    Model output: 6\n"
     ]
    },
    {
     "data": {
      "image/png": "[encoded data removed]",
      "text/plain": [
       "<Figure size 432x288 with 1 Axes>"
      ]
     },
     "metadata": {
      "needs_background": "light"
     },
     "output_type": "display_data"
    },
    {
     "data": {
      "image/png": "[encoded data removed]",
      "text/plain": [
       "<Figure size 432x288 with 1 Axes>"
      ]
     },
     "metadata": {
      "needs_background": "light"
     },
     "output_type": "display_data"
    },
    {
     "data": {
      "image/png": "[encoded data removed]",
      "text/plain": [
       "<Figure size 432x288 with 1 Axes>"
      ]
     },
     "metadata": {
      "needs_background": "light"
     },
     "output_type": "display_data"
    },
    {
     "data": {
      "image/png": "[encoded data removed]",
      "text/plain": [
       "<Figure size 432x288 with 1 Axes>"
      ]
     },
     "metadata": {
      "needs_background": "light"
     },
     "output_type": "display_data"
    },
    {
     "data": {
      "image/png": "[encoded data removed]",
      "text/plain": [
       "<Figure size 432x288 with 1 Axes>"
      ]
     },
     "metadata": {
      "needs_background": "light"
     },
     "output_type": "display_data"
    }
   ],
   "source": [
    "#Quick visualization for model performance \n",
    "\n",
    "test_data = x_test_1.narrow(0,900,5)\n",
    "test_target = y_test_1.narrow(0,900,5)\n",
    "\n",
    "for b in range(0, test_data.size(0), 5):\n",
    "        output = model(test_data.narrow(0, b, 5))\n",
    "        _, predicted_classes = output.data.max(1)\n",
    "for i in range(0,5):\n",
    "    plt.figure(i)\n",
    "    plt.imshow(test_data[i][0])\n",
    "    print('Target: %d    Model output: %d' %(test_target[i].data,predicted_classes[i].data))\n",
    "    "
   ]
  }
 ],
 "metadata": {
  "kernelspec": {
   "display_name": "dl2019",
   "language": "python",
   "name": "dl2019"
  },
  "language_info": {
   "codemirror_mode": {
    "name": "ipython",
    "version": 3
   },
   "file_extension": ".py",
   "mimetype": "text/x-python",
   "name": "python",
   "nbconvert_exporter": "python",
   "pygments_lexer": "ipython3",
   "version": "3.7.2"
  }
 },
 "nbformat": 4,
 "nbformat_minor": 2
}
