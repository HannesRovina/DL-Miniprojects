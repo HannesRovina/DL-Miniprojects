{
 "cells": [
  {
   "cell_type": "code",
   "execution_count": null,
   "metadata": {},
   "outputs": [],
   "source": [
    "%load_ext autoreload\n",
    "%autoreload 2"
   ]
  },
  {
   "cell_type": "code",
   "execution_count": 1,
   "metadata": {},
   "outputs": [],
   "source": [
    "import torch\n",
    "import torch.nn as nn\n",
    "from torch.nn import functional as F\n",
    "from torch.utils.data import DataLoader\n",
    "from src.data_loading import DlDataset\n",
    "from src.convnet import train_net, NumNet\n",
    "\n",
    "import matplotlib.pyplot as plt"
   ]
  },
  {
   "cell_type": "code",
   "execution_count": 2,
   "metadata": {},
   "outputs": [],
   "source": [
    "# Not very elegant but removes all the warnings about deprecated upsample funtion\n",
    "import warnings\n",
    "warnings.filterwarnings(\"ignore\")"
   ]
  },
  {
   "cell_type": "code",
   "execution_count": 3,
   "metadata": {},
   "outputs": [],
   "source": [
    "#import data for a 1000 pairs\n",
    "N = 1000\n",
    "dataset_train = DlDataset(N, normalize=True, upsample=(28,28))\n",
    "dataset_test = DlDataset(N, normalize=True, upsample=(28,28))\n",
    "dataset_train.train()\n",
    "dataset_test.test()"
   ]
  },
  {
   "cell_type": "code",
   "execution_count": null,
   "metadata": {},
   "outputs": [],
   "source": [
    "#model, simple cnn with 2 conv layers and one hidden and output layer\n",
    "#Number of parameters 224290\n",
    "class Net(nn.Module):\n",
    "    def __init__(self,hiddenUnits):\n",
    "        super(Net, self).__init__()\n",
    "        self.conv1 = nn.Conv2d(2, 32, kernel_size=3)\n",
    "        self.conv2 = nn.Conv2d(32, 64, kernel_size=3)\n",
    "        self.fc1 = nn.Linear(64*5*5, hiddenUnits)\n",
    "        self.fc2 = nn.Linear(hiddenUnits, 2)\n",
    "        self.bn1 = nn.BatchNorm2d(32)\n",
    "        self.bn2 = nn.BatchNorm2d(64)\n",
    "        self.drop1 = nn.Dropout2d(p=0.25)\n",
    "        self.drop2 = nn.Dropout(p=0.5)\n",
    "\n",
    "    def forward(self, x):\n",
    "        x = F.relu(self.conv1(x))\n",
    "        x = F.max_pool2d(x, kernel_size=2)\n",
    "        x = self.bn1(x)\n",
    "        x = F.relu(self.conv2(x))\n",
    "        x = F.max_pool2d(x, kernel_size=2)\n",
    "        #x = self.drop1(x)\n",
    "        x = self.bn2(x)        \n",
    "        x = F.relu(self.fc1(x.view(-1, 64*5*5)))\n",
    "        #x = self.drop2(x)\n",
    "        #x = self.fc2(x)\n",
    "        x = F.log_softmax(self.fc2(x),dim=1)\n",
    "        return x"
   ]
  },
  {
   "cell_type": "code",
   "execution_count": 4,
   "metadata": {},
   "outputs": [
    {
     "name": "stdout",
     "output_type": "stream",
     "text": [
      "Number              Layer               Output shape        Input shape         Trainable params    \n",
      "0                   Conv2d              [2, 28, 28]         [32, 24, 24]        1632\n",
      "1                   MaxPool2d           [32, 24, 24]        [32, 12, 12]        0\n",
      "2                   BatchNorm2d         [32, 12, 12]        [32, 12, 12]        64\n",
      "3                   Conv2d              [32, 12, 12]        [64, 10, 10]        18496\n",
      "4                   MaxPool2d           [64, 10, 10]        [64, 5, 5]          0\n",
      "5                   BatchNorm2d         [64, 5, 5]          [64, 5, 5]          128\n",
      "6                   Linear              1600                128                 204928\n",
      "7                   Linear              128                 2                   258\n",
      "----------------------------------------------------------------------------------------------------\n",
      "Total number of trainable parameters: 225506\n"
     ]
    }
   ],
   "source": [
    "# The same net using NumNet class\n",
    "# Dropout layer\n",
    "# {'Type':'DropoutLayer', 'p':0.2}\n",
    "config = [{'Type': 'ConvLayer', 'out_channels':32, 'activation':'ReLU()', 'kernel_size':5},\n",
    "          {'Type': 'MaxPoolLayer', 'pooling':2, 'stride':2},\n",
    "          {'Type': 'BatchNormLayer'},\n",
    "          {'Type': 'ConvLayer', 'out_channels':64, 'activation':'ReLU()', 'kernel_size':3},\n",
    "          {'Type': 'MaxPoolLayer', 'pooling':2, 'stride':2},\n",
    "          {'Type': 'BatchNormLayer'},\n",
    "          {'Type': 'LinearLayer', 'out_features':128, 'activation':'ReLU()'},\n",
    "          {'Type': 'LinearLayer', 'out_features':2, 'activation':'LogSoftmax(dim=1)'}]\n",
    "\n",
    "model = NumNet([2,28,28], config)\n",
    "model.summary()"
   ]
  },
  {
   "cell_type": "code",
   "execution_count": null,
   "metadata": {
    "scrolled": true
   },
   "outputs": [],
   "source": [
    "# Train parameter\n",
    "epochs = 15\n",
    "eta = 5e-3\n",
    "lambda_l2 = 1e-3\n",
    "gamma = 0.2\n",
    "depth = 4\n",
    "n_filters = 3\n",
    "\n",
    "# U-Net definition\n",
    "#device = torch.device('cuda' if torch.cuda.is_available() else 'cpu')\n",
    "device = torch.device('cpu') #Hannes' gpu is not supported but has cuda cores... \n",
    "#model = Net(128).to(device)\n",
    "optim = torch.optim.SGD(model.parameters(), lr=eta, momentum=gamma)\n",
    "criterion = torch.nn.CrossEntropyLoss()\n",
    "dataloader = []\n",
    "dataloader.append(DataLoader(dataset_train, batch_size=10,shuffle=True, num_workers=4))\n",
    "dataloader.append(DataLoader(dataset_test, batch_size=10,shuffle=True, num_workers=4))\n",
    "\n",
    "avg_loss_train,avg_acc_train,avg_loss_test,avg_acc_test, model = train_net(model, device, optim, criterion, dataloader,\n",
    "                                                     epochs=epochs, lambda_=1e-3, reg_type=None, \n",
    "                                                     save=False)"
   ]
  },
  {
   "cell_type": "code",
   "execution_count": null,
   "metadata": {},
   "outputs": [],
   "source": [
    "plt.figure('History Plot', figsize=(12,8))\n",
    "plt.title('Error and Accuracy of Network')\n",
    "plt.subplot(1,2,1)\n",
    "plt.plot(range(0,epochs), avg_loss_train, label = 'Train error')\n",
    "plt.plot(range(0,epochs), avg_loss_test, label = 'Validation error')\n",
    "plt.grid()\n",
    "plt.legend()\n",
    "\n",
    "plt.subplot(1,2,2)\n",
    "plt.plot(range(0,epochs), avg_acc_train, label = 'Train accuracy')\n",
    "plt.plot(range(0,epochs), avg_acc_test, label = 'Validation accuracy')\n",
    "plt.grid()\n",
    "plt.legend();"
   ]
  },
  {
   "cell_type": "code",
   "execution_count": null,
   "metadata": {},
   "outputs": [],
   "source": [
    "dataset_test.infere(model,5);\n",
    "dataset_test.infere(model,6);"
   ]
  }
 ],
 "metadata": {
  "kernelspec": {
   "display_name": "Python 3",
   "language": "python",
   "name": "python3"
  },
  "language_info": {
   "codemirror_mode": {
    "name": "ipython",
    "version": 3
   },
   "file_extension": ".py",
   "mimetype": "text/x-python",
   "name": "python",
   "nbconvert_exporter": "python",
   "pygments_lexer": "ipython3",
   "version": "3.6.4"
  }
 },
 "nbformat": 4,
 "nbformat_minor": 2
}
