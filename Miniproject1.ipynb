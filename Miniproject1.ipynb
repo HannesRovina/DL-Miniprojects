{
 "cells": [
  {
   "cell_type": "code",
   "execution_count": 1,
   "metadata": {},
   "outputs": [],
   "source": [
    "%load_ext autoreload\n",
    "%autoreload 2"
   ]
  },
  {
   "cell_type": "code",
   "execution_count": 2,
   "metadata": {},
   "outputs": [],
   "source": [
    "import torch\n",
    "import torch.nn as nn\n",
    "from torch.nn import functional as F\n",
    "from torch.utils.data import DataLoader\n",
    "from src.data_loading import DlDataset\n",
    "from src.convnet import train_net"
   ]
  },
  {
   "cell_type": "code",
   "execution_count": 3,
   "metadata": {},
   "outputs": [],
   "source": [
    "# Not very elegant but removes all the warnings about deprecated upsample funtion\n",
    "import warnings\n",
    "warnings.filterwarnings(\"ignore\")"
   ]
  },
  {
   "cell_type": "code",
   "execution_count": 4,
   "metadata": {},
   "outputs": [],
   "source": [
    "#import data for a 1000 pairs\n",
    "N = 1000\n",
    "dataset = DlDataset(N, normalize=True, upsample=(28,28))"
   ]
  },
  {
   "cell_type": "code",
   "execution_count": 5,
   "metadata": {},
   "outputs": [],
   "source": [
    "#model, simple cnn with 2 conv layers and one hidden and output layer\n",
    "class Net(nn.Module):\n",
    "    def __init__(self,hiddenUnits):\n",
    "        super(Net, self).__init__()\n",
    "        self.conv1 = nn.Conv2d(2, 32, kernel_size=5)\n",
    "        self.conv2 = nn.Conv2d(32, 64, kernel_size=5)\n",
    "        self.fc1 = nn.Linear(64*4*4, hiddenUnits)\n",
    "        self.fc2 = nn.Linear(hiddenUnits, 10)\n",
    "\n",
    "    def forward(self, x):\n",
    "        x = F.relu(self.conv1(x))\n",
    "        x = F.max_pool2d(x, kernel_size=2)\n",
    "        x = F.relu(self.conv2(x))\n",
    "        x = F.max_pool2d(x, kernel_size=2)\n",
    "        x = F.relu(self.fc1(x.view(-1, 64*4*4)))\n",
    "        x = F.log_softmax(self.fc2(x),dim=1)\n",
    "        return x"
   ]
  },
  {
   "cell_type": "code",
   "execution_count": 6,
   "metadata": {},
   "outputs": [
    {
     "name": "stdout",
     "output_type": "stream",
     "text": [
      "Epoch 0\n",
      "Batch 10, Cross entropy loss: 87.21\n",
      "Batch 20, Cross entropy loss: 44.97\n",
      "Batch 30, Cross entropy loss: 30.54\n",
      "Batch 40, Cross entropy loss: 23.17\n",
      "Batch 50, Cross entropy loss: 18.76\n",
      "Batch 60, Cross entropy loss: 15.84\n",
      "Batch 70, Cross entropy loss: 13.69\n",
      "Batch 80, Cross entropy loss: 12.06\n",
      "Batch 90, Cross entropy loss: 10.81\n",
      "Batch 100, Cross entropy loss: 9.81\n",
      "Batch 110, Cross entropy loss: 8.98\n",
      "Batch 120, Cross entropy loss: 8.29\n",
      "Batch 130, Cross entropy loss: 7.72\n",
      "Batch 140, Cross entropy loss: 7.23\n",
      "Batch 150, Cross entropy loss: 6.80\n",
      "Batch 160, Cross entropy loss: 6.42\n",
      "Batch 170, Cross entropy loss: 6.09\n",
      "Batch 180, Cross entropy loss: 5.79\n",
      "Batch 190, Cross entropy loss: 5.53\n",
      "Epoch 1\n",
      "Batch 10, Cross entropy loss: 0.75\n",
      "Batch 20, Cross entropy loss: 0.74\n",
      "Batch 30, Cross entropy loss: 0.73\n",
      "Batch 40, Cross entropy loss: 0.71\n",
      "Batch 50, Cross entropy loss: 0.71\n",
      "Batch 60, Cross entropy loss: 0.68\n",
      "Batch 70, Cross entropy loss: 0.67\n",
      "Batch 80, Cross entropy loss: 0.67\n",
      "Batch 90, Cross entropy loss: 0.65\n",
      "Batch 100, Cross entropy loss: 0.66\n",
      "Batch 110, Cross entropy loss: 0.67\n",
      "Batch 120, Cross entropy loss: 0.67\n",
      "Batch 130, Cross entropy loss: 0.67\n",
      "Batch 140, Cross entropy loss: 0.67\n",
      "Batch 150, Cross entropy loss: 0.67\n",
      "Batch 160, Cross entropy loss: 0.67\n",
      "Batch 170, Cross entropy loss: 0.67\n",
      "Batch 180, Cross entropy loss: 0.67\n",
      "Batch 190, Cross entropy loss: 0.67\n",
      "Epoch 2\n",
      "Batch 10, Cross entropy loss: 0.76\n",
      "Batch 20, Cross entropy loss: 0.62\n",
      "Batch 30, Cross entropy loss: 0.64\n",
      "Batch 40, Cross entropy loss: 0.64\n",
      "Batch 50, Cross entropy loss: 0.61\n",
      "Batch 60, Cross entropy loss: 0.61\n",
      "Batch 70, Cross entropy loss: 0.61\n",
      "Batch 80, Cross entropy loss: 0.61\n",
      "Batch 90, Cross entropy loss: 0.61\n",
      "Batch 100, Cross entropy loss: 0.61\n",
      "Batch 110, Cross entropy loss: 0.61\n",
      "Batch 120, Cross entropy loss: 0.62\n",
      "Batch 130, Cross entropy loss: 0.62\n",
      "Batch 140, Cross entropy loss: 0.61\n",
      "Batch 150, Cross entropy loss: 0.61\n",
      "Batch 160, Cross entropy loss: 0.61\n",
      "Batch 170, Cross entropy loss: 0.61\n",
      "Batch 180, Cross entropy loss: 0.62\n",
      "Batch 190, Cross entropy loss: 0.61\n",
      "Epoch 3\n",
      "Batch 10, Cross entropy loss: 0.64\n",
      "Batch 20, Cross entropy loss: 0.59\n",
      "Batch 30, Cross entropy loss: 0.56\n",
      "Batch 40, Cross entropy loss: 0.58\n",
      "Batch 50, Cross entropy loss: 0.59\n",
      "Batch 60, Cross entropy loss: 0.56\n",
      "Batch 70, Cross entropy loss: 0.56\n",
      "Batch 80, Cross entropy loss: 0.56\n",
      "Batch 90, Cross entropy loss: 0.57\n",
      "Batch 100, Cross entropy loss: 0.58\n",
      "Batch 110, Cross entropy loss: 0.58\n",
      "Batch 120, Cross entropy loss: 0.57\n",
      "Batch 130, Cross entropy loss: 0.57\n",
      "Batch 140, Cross entropy loss: 0.57\n",
      "Batch 150, Cross entropy loss: 0.57\n",
      "Batch 160, Cross entropy loss: 0.56\n",
      "Batch 170, Cross entropy loss: 0.56\n",
      "Batch 180, Cross entropy loss: 0.56\n",
      "Batch 190, Cross entropy loss: 0.56\n",
      "Epoch 4\n",
      "Batch 10, Cross entropy loss: 0.53\n",
      "Batch 20, Cross entropy loss: 0.46\n",
      "Batch 30, Cross entropy loss: 0.42\n",
      "Batch 40, Cross entropy loss: 0.49\n",
      "Batch 50, Cross entropy loss: 0.51\n",
      "Batch 60, Cross entropy loss: 0.51\n",
      "Batch 70, Cross entropy loss: 0.51\n",
      "Batch 80, Cross entropy loss: 0.52\n",
      "Batch 90, Cross entropy loss: 0.51\n",
      "Batch 100, Cross entropy loss: 0.51\n",
      "Batch 110, Cross entropy loss: 0.51\n",
      "Batch 120, Cross entropy loss: 0.51\n",
      "Batch 130, Cross entropy loss: 0.51\n",
      "Batch 140, Cross entropy loss: 0.51\n",
      "Batch 150, Cross entropy loss: 0.51\n",
      "Batch 160, Cross entropy loss: 0.50\n",
      "Batch 170, Cross entropy loss: 0.50\n",
      "Batch 180, Cross entropy loss: 0.50\n",
      "Batch 190, Cross entropy loss: 0.51\n"
     ]
    }
   ],
   "source": [
    "# Train parameter\n",
    "epochs = 5\n",
    "eta = 5e-3\n",
    "lambda_l2 = 1e-3\n",
    "gamma = 0.2\n",
    "depth = 4\n",
    "n_filters = 3\n",
    "\n",
    "# U-Net definition\n",
    "device = torch.device('cuda' if torch.cuda.is_available() else 'cpu')\n",
    "device = torch.device('cpu') #Hannes' gpu is not supported but has cuda cores... \n",
    "model = Net(128).to(device)\n",
    "optim = torch.optim.SGD(model.parameters(), lr=eta, momentum=gamma)\n",
    "criterion = torch.nn.CrossEntropyLoss()\n",
    "dataloader = DataLoader(dataset, batch_size=5,\n",
    "                        shuffle=True, num_workers=4)\n",
    "\n",
    "avg_epoch_loss, model = train_net(model, device, optim, criterion, dataloader, \n",
    "                                   epochs=epochs, lambda_=1e-3, reg_type=None, \n",
    "                                   save=False)"
   ]
  },
  {
   "cell_type": "code",
   "execution_count": 11,
   "metadata": {},
   "outputs": [
    {
     "name": "stdout",
     "output_type": "stream",
     "text": [
      "Predicted Target: 0, Real Target: 0\n",
      "Real classes are, left: 4 right: 1\n",
      "Predicted Target: 1, Real Target: 1\n",
      "Real classes are, left: 0 right: 7\n"
     ]
    },
    {
     "data": {
      "image/png": "[encoded data removed]",
      "text/plain": [
       "<Figure size 432x288 with 2 Axes>"
      ]
     },
     "metadata": {
      "needs_background": "light"
     },
     "output_type": "display_data"
    },
    {
     "data": {
      "image/png": "[encoded data removed]",
      "text/plain": [
       "<Figure size 432x288 with 2 Axes>"
      ]
     },
     "metadata": {
      "needs_background": "light"
     },
     "output_type": "display_data"
    }
   ],
   "source": [
    "dataset.infere(model,1);\n",
    "dataset.infere(model,0);"
   ]
  }
 ],
 "metadata": {
  "kernelspec": {
   "display_name": "dl2019",
   "language": "python",
   "name": "dl2019"
  },
  "language_info": {
   "codemirror_mode": {
    "name": "ipython",
    "version": 3
   },
   "file_extension": ".py",
   "mimetype": "text/x-python",
   "name": "python",
   "nbconvert_exporter": "python",
   "pygments_lexer": "ipython3",
   "version": "3.7.2"
  }
 },
 "nbformat": 4,
 "nbformat_minor": 2
}
